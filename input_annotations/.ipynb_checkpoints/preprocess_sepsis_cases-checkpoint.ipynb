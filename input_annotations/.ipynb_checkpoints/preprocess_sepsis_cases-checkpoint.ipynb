{
 "cells": [
  {
   "cell_type": "code",
   "execution_count": 288,
   "metadata": {},
   "outputs": [],
   "source": [
    "import os\n",
    "import shap\n",
    "import pm4py as pm\n",
    "import numpy as np\n",
    "import pandas as pd\n",
    "#------------------------------------------------------------------\n",
    "from sklearn.metrics import accuracy_score\n",
    "from sklearn.ensemble import RandomForestClassifier\n",
    "from sklearn.model_selection import train_test_split\n",
    "from sklearn.feature_selection import SelectFromModel\n",
    "from sklearn.model_selection import train_test_split\n",
    "from sklearn.ensemble import RandomForestRegressor\n",
    "from sklearn.inspection import permutation_importance\n",
    "#------------------------------------------------------------------\n",
    "from pm4py.objects.log.importer.xes import importer as xes_importer\n",
    "from pm4py.objects.conversion.log import converter as log_converter\n",
    "\n",
    "# visualisations\n",
    "import seaborn as sns\n",
    "import matplotlib.pyplot as plt\n",
    "%matplotlib inline\n",
    "sns.set_style(\"whitegrid\")\n",
    "sns.set(rc = {'figure.figsize':(15, 10)})"
   ]
  },
  {
   "cell_type": "code",
   "execution_count": 289,
   "metadata": {},
   "outputs": [],
   "source": [
    "input_data_folder = \"../orig_logs\"\n",
    "output_data_folder = \"../input_files\"\n",
    "in_filename_xes = \"Sepsis-Cases-Event-Log.xes\"\n",
    "in_filename_csv = \"Sepsis-Cases-Event-Log.csv\""
   ]
  },
  {
   "cell_type": "code",
   "execution_count": 290,
   "metadata": {},
   "outputs": [],
   "source": [
    "variant = xes_importer.Variants.LINE_BY_LINE\n",
    "parameters = {variant.value.Parameters.TIMESTAMP_SORT: True}\n",
    "log = xes_importer.apply(os.path.join(input_data_folder, in_filename_xes),\n",
    "                         variant=variant, parameters=parameters)"
   ]
  },
  {
   "cell_type": "code",
   "execution_count": 291,
   "metadata": {},
   "outputs": [],
   "source": [
    "dataframe = log_converter.apply(log, variant=log_converter.Variants.TO_DATA_FRAME)"
   ]
  },
  {
   "cell_type": "code",
   "execution_count": 292,
   "metadata": {},
   "outputs": [],
   "source": [
    "dataframe.rename(columns={'case:concept:name': 'Case ID', 'concept:name': 'Activity', \n",
    "                          'time:timestamp': 'Complete Timestamp', 'org:group' : 'user'}, inplace=True)"
   ]
  },
  {
   "cell_type": "code",
   "execution_count": 293,
   "metadata": {},
   "outputs": [],
   "source": [
    "dataframe.to_csv(os.path.join(input_data_folder, in_filename_csv))"
   ]
  },
  {
   "cell_type": "code",
   "execution_count": 294,
   "metadata": {},
   "outputs": [],
   "source": [
    "case_id_col = \"Case ID\"\n",
    "activity_col = \"Activity\"\n",
    "timestamp_col = \"Complete Timestamp\"\n",
    "label_col = \"label\"\n",
    "pos_label = \"deviant\"\n",
    "neg_label = \"regular\""
   ]
  },
  {
   "cell_type": "code",
   "execution_count": 295,
   "metadata": {},
   "outputs": [],
   "source": [
    "category_freq_threshold = 10"
   ]
  },
  {
   "cell_type": "code",
   "execution_count": 296,
   "metadata": {},
   "outputs": [],
   "source": [
    "dynamic_cat_cols = [\"Activity\", 'user'] # i.e. event attributes\n",
    "static_cat_cols = ['Diagnose', 'DiagnosticArtAstrup', 'DiagnosticBlood', 'DiagnosticECG',\n",
    "       'DiagnosticIC', 'DiagnosticLacticAcid', 'DiagnosticLiquor',\n",
    "       'DiagnosticOther', 'DiagnosticSputum', 'DiagnosticUrinaryCulture',\n",
    "       'DiagnosticUrinarySediment', 'DiagnosticXthorax', 'DisfuncOrg',\n",
    "       'Hypotensie', 'Hypoxie', 'InfectionSuspected', 'Infusion', 'Oligurie',\n",
    "       'SIRSCritHeartRate', 'SIRSCritLeucos', 'SIRSCritTachypnea',\n",
    "       'SIRSCritTemperature', 'SIRSCriteria2OrMore'] # i.e. case attributes that are known from the start\n",
    "dynamic_num_cols = ['CRP', 'LacticAcid', 'Leucocytes']\n",
    "static_num_cols = ['Age']"
   ]
  },
  {
   "cell_type": "code",
   "execution_count": 297,
   "metadata": {},
   "outputs": [],
   "source": [
    "static_cols = static_cat_cols + static_num_cols + [case_id_col]\n",
    "dynamic_cols = dynamic_cat_cols + dynamic_num_cols + [timestamp_col]\n",
    "cat_cols = dynamic_cat_cols + static_cat_cols"
   ]
  },
  {
   "cell_type": "code",
   "execution_count": 298,
   "metadata": {},
   "outputs": [],
   "source": [
    "# def extract_timestamp_features(group):\n",
    "    \n",
    "#     group = group.sort_values(timestamp_col, ascending=False, kind='mergesort')\n",
    "    \n",
    "#     tmp = group[timestamp_col] - group[timestamp_col].shift(-1)\n",
    "#     #tmp = tmp.fillna(0)\n",
    "#     #group[\"timesincelastevent\"] = tmp.apply(lambda x: float(x / np.timedelta64(1, 'm'))) # m is for minutes\n",
    "#     group[\"timesincelastevent\"] = tmp.apply(lambda x: float(x / pd.Timedelta(1, 'm'))) # m is for minutes\n",
    "\n",
    "#     tmp = group[timestamp_col] - group[timestamp_col].iloc[-1]\n",
    "#     #tmp = tmp.fillna(0)\n",
    "#     #group[\"timesincecasestart\"] = tmp.apply(lambda x: float(x / np.timedelta64(1, 'm'))) # m is for minutes\n",
    "#     group[\"timesincecasestart\"] = tmp.apply(lambda x: float(x / pd.Timedelta(1, 'm'))) # m is for minutes\n",
    "\n",
    "#     group = group.sort_values(timestamp_col, ascending=True, kind='mergesort')\n",
    "#     group[\"event_nr\"] = range(1, len(group) + 1)\n",
    "    \n",
    "#     return group"
   ]
  },
  {
   "cell_type": "code",
   "execution_count": 299,
   "metadata": {},
   "outputs": [],
   "source": [
    "# def cut_before_activity(group):\n",
    "#     relevant_activity_idxs = np.where(group[activity_col] == relevant_activity)[0]\n",
    "#     if len(relevant_activity_idxs) > 0:\n",
    "#         cut_idx = relevant_activity_idxs[0]\n",
    "#         return group[:cut_idx]\n",
    "#     else:\n",
    "#         return group"
   ]
  },
  {
   "cell_type": "code",
   "execution_count": 300,
   "metadata": {},
   "outputs": [],
   "source": [
    "def get_open_cases(date):\n",
    "    return sum((dt_first_last_timestamps[\"start_time\"] <= date) & (dt_first_last_timestamps[\"end_time\"] > date))"
   ]
  },
  {
   "cell_type": "code",
   "execution_count": 301,
   "metadata": {},
   "outputs": [],
   "source": [
    "# def check_if_activity_exists(group, activity):\n",
    "#     relevant_activity_idxs = np.where(group[activity_col] == activity)[0]\n",
    "#     if len(relevant_activity_idxs) > 0:\n",
    "#         idx = relevant_activity_idxs[0]\n",
    "#         group[label_col] = pos_label\n",
    "#         return group[:idx]\n",
    "#     else:\n",
    "#         group[label_col] = neg_label\n",
    "#         return group"
   ]
  },
  {
   "cell_type": "code",
   "execution_count": 302,
   "metadata": {},
   "outputs": [],
   "source": [
    "# def check_if_activity_exists_and_time_less_than(group, activity):\n",
    "#     relevant_activity_idxs = np.where(group[activity_col] == activity)[0]\n",
    "#     if len(relevant_activity_idxs) > 0:\n",
    "#         idx = relevant_activity_idxs[0]\n",
    "#         if group[\"timesincelastevent\"].iloc[idx] <= 28 * 1440: # return in less than 28 days (converted in minutes)\n",
    "#             group[label_col] = pos_label #deviant\n",
    "\n",
    "#             return group[:idx] #removes the activity in the scope\n",
    "#         else:\n",
    "#             group[label_col] = neg_label #regular\n",
    "\n",
    "#             return group[:idx]\n",
    "#     else:\n",
    "#         group[label_col] = neg_label #regular\n",
    "\n",
    "#         return group"
   ]
  },
  {
   "cell_type": "code",
   "execution_count": 303,
   "metadata": {},
   "outputs": [],
   "source": [
    "def check_if_any_of_activities_exist(group, activities):\n",
    "    if np.sum(group[activity_col].isin(activities)) > 0:\n",
    "        return True\n",
    "    else:\n",
    "        return False"
   ]
  },
  {
   "cell_type": "code",
   "execution_count": 304,
   "metadata": {},
   "outputs": [],
   "source": [
    "data = pd.read_csv(os.path.join(input_data_folder, in_filename_csv), sep=\",\")\n",
    "data.rename(columns={\"Unnamed: 0\" : \"event_nr\"}, inplace=True)\n",
    "data[case_id_col] = data[case_id_col].fillna(\"missing_caseid\")"
   ]
  },
  {
   "cell_type": "code",
   "execution_count": 305,
   "metadata": {},
   "outputs": [],
   "source": [
    "# remove incomplete cases\n",
    "tmp = data.groupby(case_id_col).apply(check_if_any_of_activities_exist, activities=[\"Release A\", \"Release B\", \"Release C\", \"Release D\", \"Release E\"])\n",
    "incomplete_cases = tmp.index[tmp==False]\n",
    "data = data[~data[case_id_col].isin(incomplete_cases)]"
   ]
  },
  {
   "cell_type": "code",
   "execution_count": 306,
   "metadata": {},
   "outputs": [],
   "source": [
    "#columns = [static_cols + dynamic_cols]\n",
    "#data = data.reindex(columns=columns)\n",
    "data = data[static_cols + dynamic_cols]"
   ]
  },
  {
   "cell_type": "code",
   "execution_count": 307,
   "metadata": {},
   "outputs": [],
   "source": [
    "# add features extracted from timestamp\n",
    "# data[timestamp_col] = pd.to_datetime(data[timestamp_col], utc=True)\n",
    "# data[\"timesincemidnight\"] = data[timestamp_col].dt.hour * 60 + data[timestamp_col].dt.minute\n",
    "# data[\"month\"] = data[timestamp_col].dt.month\n",
    "# data[\"weekday\"] = data[timestamp_col].dt.weekday\n",
    "# data[\"hour\"] = data[timestamp_col].dt.hour\n",
    "# data = data.groupby(case_id_col).apply(extract_timestamp_features)"
   ]
  },
  {
   "cell_type": "code",
   "execution_count": 308,
   "metadata": {},
   "outputs": [],
   "source": [
    "# add inter-case features\n",
    "data = data.sort_values([timestamp_col], ascending=True, kind='mergesort')\n",
    "dt_first_last_timestamps = data.groupby(case_id_col)[timestamp_col].agg([min, max])\n",
    "dt_first_last_timestamps.columns = [\"start_time\", \"end_time\"]\n",
    "data[\"open_cases\"] = data[timestamp_col].apply(get_open_cases)"
   ]
  },
  {
   "cell_type": "code",
   "execution_count": 309,
   "metadata": {},
   "outputs": [],
   "source": [
    "# impute missing values\n",
    "grouped = data.sort_values(timestamp_col, ascending=True, kind='mergesort').groupby(case_id_col)\n",
    "for col in static_cols + dynamic_cols:\n",
    "    data[col] = grouped[col].transform(lambda grp: grp.fillna(method='ffill'))"
   ]
  },
  {
   "cell_type": "code",
   "execution_count": 310,
   "metadata": {},
   "outputs": [],
   "source": [
    "data[cat_cols] = data[cat_cols].fillna('missing')\n",
    "data = data.fillna(0)"
   ]
  },
  {
   "cell_type": "code",
   "execution_count": 311,
   "metadata": {},
   "outputs": [],
   "source": [
    "for col in cat_cols:\n",
    "    counts = data[col].value_counts()\n",
    "    mask = data[col].isin(counts[counts >= category_freq_threshold].index)\n",
    "    data.loc[~mask, col] = \"other\""
   ]
  },
  {
   "cell_type": "code",
   "execution_count": 312,
   "metadata": {},
   "outputs": [
    {
     "data": {
      "text/plain": [
       "(13422, 32)"
      ]
     },
     "execution_count": 312,
     "metadata": {},
     "output_type": "execute_result"
    }
   ],
   "source": [
    "data.shape"
   ]
  },
  {
   "cell_type": "markdown",
   "metadata": {},
   "source": [
    "Code Source : https://chrisalbon.com/code/machine_learning/trees_and_forests/feature_selection_using_random_forest/"
   ]
  },
  {
   "cell_type": "code",
   "execution_count": 313,
   "metadata": {},
   "outputs": [],
   "source": [
    "# Source : https://github.com/erykml/medium_articles/blob/master/Machine%20Learning/feature_importance.ipynb\n",
    "\n",
    "# function for creating a feature importance dataframe\n",
    "def imp_df(column_names, importances):\n",
    "    df = pd.DataFrame({'feature': column_names,\n",
    "                       'feature_importance': importances}) \\\n",
    "           .sort_values('feature_importance', ascending = False) \\\n",
    "           .reset_index(drop = True)\n",
    "    return df\n",
    "\n",
    "# plotting a feature importance dataframe (horizontal barchart)\n",
    "def var_imp_plot(imp_df, title):\n",
    "    imp_df.columns = ['feature', 'feature_importance']\n",
    "    sns.barplot(x = 'feature_importance', y = 'feature', data = imp_df, orient = 'h', color = 'royalblue') \\\n",
    "       .set_title(title, fontsize = 20)"
   ]
  },
  {
   "cell_type": "code",
   "execution_count": 314,
   "metadata": {},
   "outputs": [],
   "source": [
    "#Removing the Columns which is not necessary\n",
    "\n",
    "#_essencial_cols = ['Case ID', 'Complete Timestamp', 'user']\n",
    "\n",
    "#additional_cols = ['timesincemidnight', 'month', 'weekday', 'hour', 'timesincelastevent', 'timesincecasestart']\n",
    "#columns_to_drop = _essencial_cols + additional_cols\n",
    "#print(\"Dropped Columns : \", columns_to_drop)\n",
    "#data = data.drop(columns_to_drop, axis=1)\n",
    "#Backup of data\n",
    "#dataf = data\n",
    "\n",
    "#dataf = data.drop(columns_to_drop, axis=1)\n",
    "\n",
    "feature_cols = dynamic_num_cols + static_cat_cols + static_num_cols + [\"Activity\"]\n",
    "\n",
    "dataf = data[feature_cols]\n",
    "\n",
    "#Get the Numeric Columns so that Columns which is Catorical can be filtered out\n",
    "\n",
    "data_list = dataf.columns\n",
    "\n",
    "data_num_cols = dataf._get_numeric_data().columns\n",
    "\n",
    "data_cat_cols = list(set(data_list) - set(data_num_cols))"
   ]
  },
  {
   "cell_type": "code",
   "execution_count": 315,
   "metadata": {},
   "outputs": [],
   "source": [
    "dataf = dataf[~dataf.Diagnose.isin(['missing']) & ~dataf.DiagnosticArtAstrup.isin(['missing'])]"
   ]
  },
  {
   "cell_type": "code",
   "execution_count": 316,
   "metadata": {},
   "outputs": [
    {
     "data": {
      "text/plain": [
       "['DiagnosticBlood',\n",
       " 'Hypotensie',\n",
       " 'SIRSCriteria2OrMore',\n",
       " 'Oligurie',\n",
       " 'InfectionSuspected',\n",
       " 'SIRSCritLeucos',\n",
       " 'DiagnosticECG',\n",
       " 'Hypoxie',\n",
       " 'DiagnosticUrinaryCulture',\n",
       " 'DiagnosticArtAstrup',\n",
       " 'Infusion',\n",
       " 'DiagnosticLacticAcid',\n",
       " 'DiagnosticUrinarySediment',\n",
       " 'DisfuncOrg',\n",
       " 'Activity',\n",
       " 'DiagnosticLiquor',\n",
       " 'Diagnose',\n",
       " 'DiagnosticSputum',\n",
       " 'DiagnosticIC',\n",
       " 'SIRSCritTemperature',\n",
       " 'DiagnosticOther',\n",
       " 'SIRSCritTachypnea',\n",
       " 'SIRSCritHeartRate',\n",
       " 'DiagnosticXthorax']"
      ]
     },
     "execution_count": 316,
     "metadata": {},
     "output_type": "execute_result"
    }
   ],
   "source": [
    "data_cat_cols"
   ]
  },
  {
   "cell_type": "code",
   "execution_count": 317,
   "metadata": {},
   "outputs": [],
   "source": [
    "#for label encoding\n",
    "data_cat_dict = {}\n",
    "for i in range(len(data_cat_cols)):\n",
    "\n",
    "    _label = data_cat_cols[i]\n",
    "    temp_list = dataf[[_label]].values.tolist()\n",
    "    subsec_set = {(x[0]) for x in temp_list}\n",
    "    \n",
    "    subsec_set = sorted(list(subsec_set))\n",
    "    _index = dict()\n",
    "\n",
    "    for ix, _ in enumerate(subsec_set):\n",
    "\n",
    "        _index[subsec_set[ix]] = ix + 1\n",
    "    \n",
    "    _idx = lambda x: _index[x[_label]]\n",
    "    \n",
    "    #Actual Vlaues in the dictionary\n",
    "    data_cat_dict[_label] = _index\n",
    "\n",
    "    dataf[_label] = dataf.apply(_idx, axis=1)"
   ]
  },
  {
   "cell_type": "code",
   "execution_count": 318,
   "metadata": {},
   "outputs": [],
   "source": [
    "# Labels are the values we want to predict\n",
    "labels_activity = np.array(dataf['Activity'])\n",
    "\n",
    "# Remove the labels from the features\n",
    "# axis 1 refers to the columns\n",
    "dataf = dataf.drop('Activity', axis = 1)\n",
    "# Saving feature names for later use\n",
    "data_list = list(dataf.columns)\n",
    "# Convert to numpy array\n",
    "#dataf = np.array(dataf) --removed"
   ]
  },
  {
   "cell_type": "code",
   "execution_count": 319,
   "metadata": {},
   "outputs": [],
   "source": [
    "# Split the data into training and testing sets\n",
    "train_features, test_features, train_labels, test_labels = train_test_split(dataf, labels_activity, test_size = 0.3, random_state = 42)"
   ]
  },
  {
   "cell_type": "code",
   "execution_count": 320,
   "metadata": {},
   "outputs": [
    {
     "data": {
      "text/plain": [
       "RandomForestClassifier(n_estimators=1000, n_jobs=-1, oob_score=True,\n",
       "                       random_state=42)"
      ]
     },
     "execution_count": 320,
     "metadata": {},
     "output_type": "execute_result"
    }
   ],
   "source": [
    "# Create a random forest classifier\n",
    "\n",
    "slf = RandomForestClassifier(n_estimators = 1000,\n",
    "                           n_jobs = -1, #-1 means using all processors to run in parallel\n",
    "                           oob_score = True, #out-of-bag samples to estimate the generalization score\n",
    "                           bootstrap = True, #bootstrap samples are used when building trees\n",
    "                           random_state = 42)\n",
    "\n",
    "slf.fit(train_features, train_labels)"
   ]
  },
  {
   "cell_type": "code",
   "execution_count": 321,
   "metadata": {},
   "outputs": [
    {
     "name": "stdout",
     "output_type": "stream",
     "text": [
      "R^2 Training Score: 0.68 \n",
      "OOB Score: 0.17 \n",
      "R^2 Validation Score: 0.16\n"
     ]
    }
   ],
   "source": [
    "print('R^2 Training Score: {:.2f} \\nOOB Score: {:.2f} \\nR^2 Validation Score: {:.2f}'.format(slf.score(train_features, train_labels), \n",
    "                                                                                    slf.oob_score_,\n",
    "                                                                                    slf.score(test_features, test_labels)))"
   ]
  },
  {
   "cell_type": "markdown",
   "metadata": {},
   "source": [
    "#### Default Feature Importance"
   ]
  },
  {
   "cell_type": "code",
   "execution_count": 322,
   "metadata": {},
   "outputs": [
    {
     "data": {
      "text/html": [
       "<div>\n",
       "<style scoped>\n",
       "    .dataframe tbody tr th:only-of-type {\n",
       "        vertical-align: middle;\n",
       "    }\n",
       "\n",
       "    .dataframe tbody tr th {\n",
       "        vertical-align: top;\n",
       "    }\n",
       "\n",
       "    .dataframe thead th {\n",
       "        text-align: right;\n",
       "    }\n",
       "</style>\n",
       "<table border=\"1\" class=\"dataframe\">\n",
       "  <thead>\n",
       "    <tr style=\"text-align: right;\">\n",
       "      <th></th>\n",
       "      <th>feature</th>\n",
       "      <th>feature_importance</th>\n",
       "    </tr>\n",
       "  </thead>\n",
       "  <tbody>\n",
       "    <tr>\n",
       "      <th>0</th>\n",
       "      <td>Leucocytes</td>\n",
       "      <td>0.276408</td>\n",
       "    </tr>\n",
       "    <tr>\n",
       "      <th>1</th>\n",
       "      <td>CRP</td>\n",
       "      <td>0.261449</td>\n",
       "    </tr>\n",
       "    <tr>\n",
       "      <th>2</th>\n",
       "      <td>LacticAcid</td>\n",
       "      <td>0.143870</td>\n",
       "    </tr>\n",
       "    <tr>\n",
       "      <th>3</th>\n",
       "      <td>Diagnose</td>\n",
       "      <td>0.096633</td>\n",
       "    </tr>\n",
       "    <tr>\n",
       "      <th>4</th>\n",
       "      <td>Age</td>\n",
       "      <td>0.076489</td>\n",
       "    </tr>\n",
       "    <tr>\n",
       "      <th>5</th>\n",
       "      <td>DiagnosticArtAstrup</td>\n",
       "      <td>0.017420</td>\n",
       "    </tr>\n",
       "    <tr>\n",
       "      <th>6</th>\n",
       "      <td>SIRSCritTachypnea</td>\n",
       "      <td>0.015834</td>\n",
       "    </tr>\n",
       "    <tr>\n",
       "      <th>7</th>\n",
       "      <td>DiagnosticUrinaryCulture</td>\n",
       "      <td>0.014861</td>\n",
       "    </tr>\n",
       "    <tr>\n",
       "      <th>8</th>\n",
       "      <td>DiagnosticUrinarySediment</td>\n",
       "      <td>0.013731</td>\n",
       "    </tr>\n",
       "    <tr>\n",
       "      <th>9</th>\n",
       "      <td>SIRSCritTemperature</td>\n",
       "      <td>0.008829</td>\n",
       "    </tr>\n",
       "    <tr>\n",
       "      <th>10</th>\n",
       "      <td>SIRSCritHeartRate</td>\n",
       "      <td>0.008731</td>\n",
       "    </tr>\n",
       "    <tr>\n",
       "      <th>11</th>\n",
       "      <td>DiagnosticECG</td>\n",
       "      <td>0.007979</td>\n",
       "    </tr>\n",
       "    <tr>\n",
       "      <th>12</th>\n",
       "      <td>SIRSCritLeucos</td>\n",
       "      <td>0.007385</td>\n",
       "    </tr>\n",
       "    <tr>\n",
       "      <th>13</th>\n",
       "      <td>DiagnosticXthorax</td>\n",
       "      <td>0.006405</td>\n",
       "    </tr>\n",
       "    <tr>\n",
       "      <th>14</th>\n",
       "      <td>Infusion</td>\n",
       "      <td>0.005998</td>\n",
       "    </tr>\n",
       "    <tr>\n",
       "      <th>15</th>\n",
       "      <td>DiagnosticLacticAcid</td>\n",
       "      <td>0.005220</td>\n",
       "    </tr>\n",
       "    <tr>\n",
       "      <th>16</th>\n",
       "      <td>Hypotensie</td>\n",
       "      <td>0.005062</td>\n",
       "    </tr>\n",
       "    <tr>\n",
       "      <th>17</th>\n",
       "      <td>DiagnosticSputum</td>\n",
       "      <td>0.004534</td>\n",
       "    </tr>\n",
       "    <tr>\n",
       "      <th>18</th>\n",
       "      <td>DiagnosticBlood</td>\n",
       "      <td>0.004246</td>\n",
       "    </tr>\n",
       "    <tr>\n",
       "      <th>19</th>\n",
       "      <td>DisfuncOrg</td>\n",
       "      <td>0.004167</td>\n",
       "    </tr>\n",
       "    <tr>\n",
       "      <th>20</th>\n",
       "      <td>Oligurie</td>\n",
       "      <td>0.003547</td>\n",
       "    </tr>\n",
       "    <tr>\n",
       "      <th>21</th>\n",
       "      <td>Hypoxie</td>\n",
       "      <td>0.002508</td>\n",
       "    </tr>\n",
       "    <tr>\n",
       "      <th>22</th>\n",
       "      <td>InfectionSuspected</td>\n",
       "      <td>0.002038</td>\n",
       "    </tr>\n",
       "    <tr>\n",
       "      <th>23</th>\n",
       "      <td>SIRSCriteria2OrMore</td>\n",
       "      <td>0.001838</td>\n",
       "    </tr>\n",
       "    <tr>\n",
       "      <th>24</th>\n",
       "      <td>DiagnosticIC</td>\n",
       "      <td>0.001741</td>\n",
       "    </tr>\n",
       "    <tr>\n",
       "      <th>25</th>\n",
       "      <td>DiagnosticLiquor</td>\n",
       "      <td>0.001566</td>\n",
       "    </tr>\n",
       "    <tr>\n",
       "      <th>26</th>\n",
       "      <td>DiagnosticOther</td>\n",
       "      <td>0.001510</td>\n",
       "    </tr>\n",
       "  </tbody>\n",
       "</table>\n",
       "</div>"
      ],
      "text/plain": [
       "                      feature  feature_importance\n",
       "0                  Leucocytes            0.276408\n",
       "1                         CRP            0.261449\n",
       "2                  LacticAcid            0.143870\n",
       "3                    Diagnose            0.096633\n",
       "4                         Age            0.076489\n",
       "5         DiagnosticArtAstrup            0.017420\n",
       "6           SIRSCritTachypnea            0.015834\n",
       "7    DiagnosticUrinaryCulture            0.014861\n",
       "8   DiagnosticUrinarySediment            0.013731\n",
       "9         SIRSCritTemperature            0.008829\n",
       "10          SIRSCritHeartRate            0.008731\n",
       "11              DiagnosticECG            0.007979\n",
       "12             SIRSCritLeucos            0.007385\n",
       "13          DiagnosticXthorax            0.006405\n",
       "14                   Infusion            0.005998\n",
       "15       DiagnosticLacticAcid            0.005220\n",
       "16                 Hypotensie            0.005062\n",
       "17           DiagnosticSputum            0.004534\n",
       "18            DiagnosticBlood            0.004246\n",
       "19                 DisfuncOrg            0.004167\n",
       "20                   Oligurie            0.003547\n",
       "21                    Hypoxie            0.002508\n",
       "22         InfectionSuspected            0.002038\n",
       "23        SIRSCriteria2OrMore            0.001838\n",
       "24               DiagnosticIC            0.001741\n",
       "25           DiagnosticLiquor            0.001566\n",
       "26            DiagnosticOther            0.001510"
      ]
     },
     "execution_count": 322,
     "metadata": {},
     "output_type": "execute_result"
    }
   ],
   "source": [
    "base_imp = imp_df(train_features.columns, slf.feature_importances_)\n",
    "base_imp"
   ]
  },
  {
   "cell_type": "code",
   "execution_count": 323,
   "metadata": {},
   "outputs": [],
   "source": [
    "# Store the name and gini importance of each feature\n",
    "feature_list = []\n",
    "for feature in zip(data_list, slf.feature_importances_):\n",
    "    feature_list.append(feature)\n",
    "    \n",
    "#feature to dictionary\n",
    "result = dict(feature_list)\n",
    "#sorting features\n",
    "result = dict(sorted(result.items(), key=lambda item: item[1], reverse=True))"
   ]
  },
  {
   "cell_type": "code",
   "execution_count": 324,
   "metadata": {},
   "outputs": [
    {
     "data": {
      "image/png": "[encoded data removed]",
      "text/plain": [
       "<Figure size 1080x720 with 1 Axes>"
      ]
     },
     "metadata": {},
     "output_type": "display_data"
    }
   ],
   "source": [
    "var_imp_plot(base_imp, 'Default feature importance (scikit-learn)')"
   ]
  },
  {
   "cell_type": "markdown",
   "metadata": {},
   "source": [
    "when training a tree, it is possible to compute how much each feature decreases the impurity. The more a feature decreases the impurity, the more important the feature is. In random forests, the impurity decrease from each feature can be averaged across trees to determine the final importance of the variable. SelectFromModel will select those features which importance is greater than the *mean importance* of all the features by default"
   ]
  },
  {
   "cell_type": "markdown",
   "metadata": {},
   "source": [
    "Few of the limitations of Random forest are :\n",
    "- Correlated features will be given equal or similar importance, but overall reduced importance compared to the same tree built without correlated counterparts.\n",
    "- Random Forests and decision trees, in general, give preference to features with high cardinality ( Trees are biased to these type of variables )."
   ]
  },
  {
   "cell_type": "code",
   "execution_count": 325,
   "metadata": {},
   "outputs": [
    {
     "data": {
      "text/plain": [
       "SelectFromModel(estimator=RandomForestClassifier(n_estimators=1000, n_jobs=-1,\n",
       "                                                 oob_score=True,\n",
       "                                                 random_state=42))"
      ]
     },
     "execution_count": 325,
     "metadata": {},
     "output_type": "execute_result"
    }
   ],
   "source": [
    "# Create a selector object that will use the random forest classifier to identify\n",
    "# “mean” is used by default.\n",
    "sfm = SelectFromModel(slf)\n",
    "\n",
    "# Train the selector\n",
    "sfm.fit(train_features, train_labels)"
   ]
  },
  {
   "cell_type": "code",
   "execution_count": 326,
   "metadata": {},
   "outputs": [
    {
     "name": "stdout",
     "output_type": "stream",
     "text": [
      "CRP\n",
      "LacticAcid\n",
      "Leucocytes\n",
      "Diagnose\n",
      "Age\n"
     ]
    }
   ],
   "source": [
    "# Print the names of the most important features\n",
    "data_list_important = []\n",
    "for feature_list_index in sfm.get_support(indices=True):\n",
    "    print(data_list[feature_list_index])\n",
    "    data_list_important.append(data_list[feature_list_index])"
   ]
  },
  {
   "cell_type": "code",
   "execution_count": 327,
   "metadata": {},
   "outputs": [],
   "source": [
    "# Transform the data to create a new dataset containing only the most important features\n",
    "# Note: We have to apply the transform to both the training X and test X data.\n",
    "X_important_train = sfm.transform(train_features)\n",
    "X_important_test = sfm.transform(test_features)"
   ]
  },
  {
   "cell_type": "code",
   "execution_count": 328,
   "metadata": {},
   "outputs": [
    {
     "data": {
      "text/plain": [
       "RandomForestClassifier(n_estimators=1000, n_jobs=-1, random_state=0)"
      ]
     },
     "execution_count": 328,
     "metadata": {},
     "output_type": "execute_result"
    }
   ],
   "source": [
    "# Create a new random forest classifier for the most important features\n",
    "slf_important = RandomForestClassifier(n_estimators=1000, random_state=0, n_jobs=-1)\n",
    "\n",
    "# Train the new classifier on the new dataset containing the most important features\n",
    "slf_important.fit(X_important_train, train_labels)"
   ]
  },
  {
   "cell_type": "code",
   "execution_count": 329,
   "metadata": {},
   "outputs": [
    {
     "data": {
      "text/plain": [
       "0.1610148203968852"
      ]
     },
     "execution_count": 329,
     "metadata": {},
     "output_type": "execute_result"
    }
   ],
   "source": [
    "# Apply The Full Featured Classifier To The Test Data\n",
    "y_pred = slf.predict(test_features)\n",
    "\n",
    "# View The Accuracy Of Our Full Feature (4 Features) Model\n",
    "accuracy_score(test_labels, y_pred)"
   ]
  },
  {
   "cell_type": "code",
   "execution_count": 330,
   "metadata": {},
   "outputs": [
    {
     "data": {
      "text/plain": [
       "0.1904044209997488"
      ]
     },
     "execution_count": 330,
     "metadata": {},
     "output_type": "execute_result"
    }
   ],
   "source": [
    "# Apply The Selected Featured Classifier To The Test Data\n",
    "y_important_pred = slf_important.predict(X_important_test)\n",
    "\n",
    "# View The Accuracy Of Our Limited Feature Model\n",
    "accuracy_score(test_labels, y_important_pred)"
   ]
  },
  {
   "cell_type": "code",
   "execution_count": 331,
   "metadata": {},
   "outputs": [],
   "source": [
    "essencial_cols = ['Case ID', 'Activity', 'Complete Timestamp', 'user']\n",
    "\n",
    "iter_cols = ['open_cases']\n",
    "\n",
    "cols = essencial_cols + iter_cols + data_list_important"
   ]
  },
  {
   "cell_type": "code",
   "execution_count": 332,
   "metadata": {},
   "outputs": [
    {
     "data": {
      "text/plain": [
       "['Case ID',\n",
       " 'Activity',\n",
       " 'Complete Timestamp',\n",
       " 'user',\n",
       " 'open_cases',\n",
       " 'CRP',\n",
       " 'LacticAcid',\n",
       " 'Leucocytes',\n",
       " 'Diagnose',\n",
       " 'Age']"
      ]
     },
     "execution_count": 332,
     "metadata": {},
     "output_type": "execute_result"
    }
   ],
   "source": [
    "cols"
   ]
  },
  {
   "cell_type": "code",
   "execution_count": 333,
   "metadata": {},
   "outputs": [],
   "source": [
    "# # first labeling\n",
    "# dt_labeled1 = data.sort_values(timestamp_col, ascending=True, kind=\"mergesort\").groupby(case_id_col).apply(check_if_activity_exists_and_time_less_than, activity=\"Return ER\")\n",
    "# dt_labeled1[cols].to_csv(os.path.join(output_data_folder, \"sepsis_cases_1.csv\"), sep=\",\", index=False)"
   ]
  },
  {
   "cell_type": "code",
   "execution_count": 334,
   "metadata": {},
   "outputs": [],
   "source": [
    "# # second labeling\n",
    "# dt_labeled2 = data.sort_values(timestamp_col, ascending=True, kind=\"mergesort\").groupby(case_id_col).apply(check_if_activity_exists, activity=\"Admission IC\")\n",
    "# dt_labeled2[cols].to_csv(os.path.join(output_data_folder, \"sepsis_cases_2.csv\"), sep=\",\", index=False)"
   ]
  },
  {
   "cell_type": "code",
   "execution_count": 335,
   "metadata": {},
   "outputs": [],
   "source": [
    "# # fourth labeling\n",
    "# dt_labeled3 = data.sort_values(timestamp_col, ascending=True, kind=\"mergesort\").groupby(case_id_col).apply(check_if_activity_exists, activity=\"Release A\")\n",
    "# dt_labeled3[cols].to_csv(os.path.join(output_data_folder, \"sepsis_cases_4.csv\"), sep=\",\", index=False)"
   ]
  },
  {
   "cell_type": "code",
   "execution_count": 336,
   "metadata": {},
   "outputs": [],
   "source": [
    "data[essencial_cols + ['open_cases'] + data_list_important].to_csv(os.path.join(output_data_folder, \"sepsis_cases.csv\"), sep=\",\", index=False)"
   ]
  },
  {
   "cell_type": "markdown",
   "metadata": {},
   "source": [
    "Rest of the feature selection is based on the Mean Decrease Impurity and Mean Decrease Accuracy, usig the article :\n",
    "\n",
    "https://blog.datadive.net/selecting-good-features-part-iii-random-forests/\n",
    "\n",
    "https://stats.stackexchange.com/questions/191686/random-forests-for-optimal-variable-selection-feature-selection\n",
    "\n",
    "https://towardsdatascience.com/explaining-feature-importance-by-example-of-a-random-forest-d9166011959e"
   ]
  },
  {
   "cell_type": "markdown",
   "metadata": {},
   "source": [
    "#### Drop Column feature importance"
   ]
  },
  {
   "cell_type": "code",
   "execution_count": 337,
   "metadata": {},
   "outputs": [],
   "source": [
    "from sklearn.base import clone \n",
    "\n",
    "def drop_col_feat_imp(model, train_features, train_labels, random_state = 42):\n",
    "    \n",
    "    # clone the model to have the exact same specification as the one initially trained\n",
    "    model_clone = clone(model)\n",
    "    # set random_state for comparability\n",
    "    model_clone.random_state = random_state\n",
    "    # training and scoring the benchmark model\n",
    "    model_clone.fit(train_features, train_labels)\n",
    "    benchmark_score = model_clone.score(train_features, train_labels)\n",
    "    # list for storing feature importances\n",
    "    importances = []\n",
    "    \n",
    "    # iterating over all columns and storing feature importance (difference between benchmark and new model)\n",
    "    for col in train_features.columns:\n",
    "        model_clone = clone(model)\n",
    "        model_clone.random_state = random_state\n",
    "        model_clone.fit(train_features.drop(col, axis = 1), train_labels)\n",
    "        drop_col_score = model_clone.score(train_features.drop(col, axis = 1), train_labels)\n",
    "        importances.append(benchmark_score - drop_col_score)\n",
    "    \n",
    "    importances_df = imp_df(train_features.columns, importances)\n",
    "    return importances_df"
   ]
  },
  {
   "cell_type": "code",
   "execution_count": 338,
   "metadata": {},
   "outputs": [],
   "source": [
    "drop_imp = drop_col_feat_imp(slf, train_features, train_labels)"
   ]
  },
  {
   "cell_type": "code",
   "execution_count": 339,
   "metadata": {},
   "outputs": [
    {
     "data": {
      "image/png": "[encoded data removed]",
      "text/plain": [
       "<Figure size 1080x720 with 1 Axes>"
      ]
     },
     "metadata": {},
     "output_type": "display_data"
    }
   ],
   "source": [
    "var_imp_plot(drop_imp, 'Drop Column feature importance')"
   ]
  },
  {
   "cell_type": "markdown",
   "metadata": {},
   "source": [
    "#### Permutation Based Feature Importance"
   ]
  },
  {
   "cell_type": "markdown",
   "metadata": {},
   "source": [
    "This method will randomly shuffle each feature and compute the change in the model’s performance. The features which impact the performance the most are the most important one. The permutation based method can have problem with highly-correlated features, it can report them as unimportant.\n",
    "\n",
    "https://mljar.com/blog/feature-importance-in-random-forest/"
   ]
  },
  {
   "cell_type": "code",
   "execution_count": 340,
   "metadata": {},
   "outputs": [],
   "source": [
    "perm_importance = permutation_importance(slf, train_features, train_labels)"
   ]
  },
  {
   "cell_type": "code",
   "execution_count": 341,
   "metadata": {},
   "outputs": [],
   "source": [
    "sorted_idx = perm_importance.importances_mean.argsort()"
   ]
  },
  {
   "cell_type": "code",
   "execution_count": 343,
   "metadata": {},
   "outputs": [
    {
     "data": {
      "text/plain": [
       "{'importances_mean': array([ 3.26499408e-01,  2.26725530e-01,  3.27167008e-01,  4.81317971e-02,\n",
       "         1.48810165e-02,  8.82954668e-04,  4.45784430e-03, -7.32206310e-04,\n",
       "         2.34736729e-03,  2.58425756e-04,  4.30709594e-05,  1.27059330e-03,\n",
       "         6.84828255e-03,  5.66383116e-03,  4.30709594e-04,  2.77807688e-03,\n",
       "         1.21460106e-02,  2.36890277e-04,  9.26025627e-04,  2.43350921e-03,\n",
       "         1.11984494e-03,  4.24248950e-03,  3.48874771e-03,  1.63454291e-02,\n",
       "         6.13761172e-03,  2.15354797e-04,  5.32572413e-02]),\n",
       " 'importances_std': array([0.00215613, 0.00206741, 0.00279015, 0.00364453, 0.00165052,\n",
       "        0.0010156 , 0.00141316, 0.00081551, 0.00083518, 0.00014606,\n",
       "        0.00012921, 0.0007123 , 0.00178316, 0.00163102, 0.00068441,\n",
       "        0.00072521, 0.00082961, 0.00046886, 0.000412  , 0.00128059,\n",
       "        0.00064102, 0.00177142, 0.00040058, 0.00065815, 0.00031208,\n",
       "        0.00103952, 0.00167313]),\n",
       " 'importances': array([[ 3.30569613e-01,  3.26693227e-01,  3.25616453e-01,\n",
       "          3.24539679e-01,  3.25078066e-01],\n",
       "        [ 2.26876279e-01,  2.27522343e-01,  2.22784538e-01,\n",
       "          2.27630020e-01,  2.28814472e-01],\n",
       "        [ 3.26047163e-01,  3.31108000e-01,  3.25293421e-01,\n",
       "          3.23678260e-01,  3.29708194e-01],\n",
       "        [ 5.02853451e-02,  4.79164423e-02,  4.87778615e-02,\n",
       "          5.22235383e-02,  4.14557984e-02],\n",
       "        [ 1.58285776e-02,  1.21675460e-02,  1.57209002e-02,\n",
       "          1.67976742e-02,  1.38903844e-02],\n",
       "        [ 1.72283838e-03, -8.61419188e-04,  3.23032196e-04,\n",
       "          1.72283838e-03,  1.50748358e-03],\n",
       "        [ 5.27619253e-03,  2.69193496e-03,  6.67599871e-03,\n",
       "          3.33799935e-03,  4.30709594e-03],\n",
       "        [ 1.07677399e-04, -1.72283838e-03, -2.15354797e-04,\n",
       "         -1.07677399e-04, -1.72283838e-03],\n",
       "        [ 2.90728976e-03,  2.15354797e-03,  1.50748358e-03,\n",
       "          3.66103155e-03,  1.50748358e-03],\n",
       "        [ 4.30709594e-04,  0.00000000e+00,  3.23032196e-04,\n",
       "          2.15354797e-04,  3.23032196e-04],\n",
       "        [-1.07677399e-04,  1.07677399e-04, -1.07677399e-04,\n",
       "          1.07677399e-04,  2.15354797e-04],\n",
       "        [ 2.26122537e-03,  2.15354797e-04,  1.83051577e-03,\n",
       "          9.69096587e-04,  1.07677399e-03],\n",
       "        [ 4.41477334e-03,  8.61419188e-03,  8.93722408e-03,\n",
       "          6.99903090e-03,  5.27619253e-03],\n",
       "        [ 3.87638635e-03,  6.13761172e-03,  6.24528911e-03,\n",
       "          8.18348229e-03,  3.87638635e-03],\n",
       "        [ 1.29212878e-03,  0.00000000e+00,  1.07677399e-04,\n",
       "          1.18445138e-03, -4.30709594e-04],\n",
       "        [ 3.01496716e-03,  3.87638635e-03,  1.61516098e-03,\n",
       "          2.69193496e-03,  2.69193496e-03],\n",
       "        [ 1.17368364e-02,  1.11984494e-02,  1.21675460e-02,\n",
       "          1.36750296e-02,  1.19521912e-02],\n",
       "        [-1.07677399e-04, -1.07677399e-04, -1.07677399e-04,\n",
       "          1.07677399e-03,  4.30709594e-04],\n",
       "        [ 1.18445138e-03,  4.30709594e-04,  1.18445138e-03,\n",
       "          1.39980618e-03,  4.30709594e-04],\n",
       "        [ 2.04587057e-03,  3.23032196e-04,  3.76870895e-03,\n",
       "          3.76870895e-03,  2.26122537e-03],\n",
       "        [ 2.15354797e-04,  1.83051577e-03,  6.46064391e-04,\n",
       "          1.83051577e-03,  1.07677399e-03],\n",
       "        [ 2.36890277e-03,  4.41477334e-03,  3.55335415e-03,\n",
       "          3.33799935e-03,  7.53741790e-03],\n",
       "        [ 3.01496716e-03,  4.09174114e-03,  3.76870895e-03,\n",
       "          3.44567675e-03,  3.12264456e-03],\n",
       "        [ 1.73360612e-02,  1.57209002e-02,  1.57209002e-02,\n",
       "          1.60439324e-02,  1.69053516e-02],\n",
       "        [ 6.13761172e-03,  5.70690212e-03,  6.02993432e-03,\n",
       "          6.13761172e-03,  6.67599871e-03],\n",
       "        [ 1.18445138e-03, -2.15354797e-04,  6.46064391e-04,\n",
       "          1.07677399e-03, -1.61516098e-03],\n",
       "        [ 5.56692150e-02,  5.25465705e-02,  5.40540541e-02,\n",
       "          5.34079897e-02,  5.06083773e-02]])}"
      ]
     },
     "execution_count": 343,
     "metadata": {},
     "output_type": "execute_result"
    }
   ],
   "source": [
    "perm_importance"
   ]
  },
  {
   "cell_type": "code",
   "execution_count": 344,
   "metadata": {},
   "outputs": [
    {
     "data": {
      "text/plain": [
       "array([ 7, 10, 25, 17,  9, 14,  5, 18, 20, 11,  8, 19, 15, 22, 21,  6, 13,\n",
       "       24, 12, 16,  4, 23,  3, 26,  1,  0,  2], dtype=int64)"
      ]
     },
     "execution_count": 344,
     "metadata": {},
     "output_type": "execute_result"
    }
   ],
   "source": [
    "sorted_idx"
   ]
  },
  {
   "cell_type": "code",
   "execution_count": 346,
   "metadata": {},
   "outputs": [
    {
     "data": {
      "text/plain": [
       "<BarContainer object of 27 artists>"
      ]
     },
     "execution_count": 346,
     "metadata": {},
     "output_type": "execute_result"
    },
    {
     "data": {
      "image/png": "[encoded data removed]",
      "text/plain": [
       "<Figure size 1080x720 with 1 Axes>"
      ]
     },
     "metadata": {},
     "output_type": "display_data"
    }
   ],
   "source": [
    "#perm_imp = imp_df(train_features.columns, perm_importance.feature_importances_)\n",
    "plt.barh(train_features.columns, perm_importance.importances_mean[sorted_idx])"
   ]
  },
  {
   "cell_type": "code",
   "execution_count": 141,
   "metadata": {},
   "outputs": [],
   "source": [
    "#var_imp_plot(perm_imp, 'Default feature importance (scikit-learn)')"
   ]
  },
  {
   "cell_type": "markdown",
   "metadata": {},
   "source": [
    "#### Feature Importance Computed with SHAP Values"
   ]
  },
  {
   "cell_type": "markdown",
   "metadata": {},
   "source": [
    "It is using the Shapley values from game theory to estimate the how does each feature contribute to the prediction and it is model-agnostic"
   ]
  },
  {
   "cell_type": "code",
   "execution_count": null,
   "metadata": {},
   "outputs": [],
   "source": [
    "#-- Commented because it takes lot of time\n",
    "\n",
    "# explainer = shap.TreeExplainer(slf)\n",
    "# shap_values = explainer.shap_values(train_features)"
   ]
  },
  {
   "cell_type": "code",
   "execution_count": null,
   "metadata": {},
   "outputs": [],
   "source": [
    "# shap.summary_plot(shap_values, X_test, plot_type=\"bar\")"
   ]
  }
 ],
 "metadata": {
  "kernelspec": {
   "display_name": "Python 3.7 (tensorflow)",
   "language": "python",
   "name": "tensorflow"
  },
  "language_info": {
   "codemirror_mode": {
    "name": "ipython",
    "version": 3
   },
   "file_extension": ".py",
   "mimetype": "text/x-python",
   "name": "python",
   "nbconvert_exporter": "python",
   "pygments_lexer": "ipython3",
   "version": "3.8.3"
  }
 },
 "nbformat": 4,
 "nbformat_minor": 5
}
