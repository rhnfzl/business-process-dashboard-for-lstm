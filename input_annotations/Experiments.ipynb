{
 "cells": [
  {
   "cell_type": "code",
   "execution_count": 17,
   "metadata": {},
   "outputs": [],
   "source": [
    "import os\n",
    "import shap\n",
    "import pm4py as pm\n",
    "import numpy as np\n",
    "import pandas as pd\n",
    "import random\n",
    "#-----------------------------------------------------------------"
   ]
  },
  {
   "cell_type": "code",
   "execution_count": 22,
   "metadata": {},
   "outputs": [],
   "source": [
    "session_state = {'pos_ac_ss_1': [0], 'pos_rl_ss_1': [0], 'pos_lb_ss_1': [0], 'pos_ac_ss_2': [0], 'pos_rl_ss_2': [0], \n",
    "  'pos_lb_ss_2': [0], 'pos_ac_ss_3': [0], 'pos_rl_ss_3': [0], 'pos_lb_ss_3': [0]}"
   ]
  },
  {
   "cell_type": "code",
   "execution_count": 23,
   "metadata": {},
   "outputs": [],
   "source": [
    "pos = [4, 10, 3]\n",
    "pos1 = [2, 4, 5]\n",
    "pos2 = [1, 0]\n",
    "\n",
    "parameters = {}\n",
    "parameters['multiprednum'] = 3"
   ]
  },
  {
   "cell_type": "code",
   "execution_count": 24,
   "metadata": {},
   "outputs": [
    {
     "name": "stdout",
     "output_type": "stream",
     "text": [
      "State of Session State for the iteration 0  :  {'pos_ac_ss_1': [0], 'pos_rl_ss_1': [0], 'pos_lb_ss_1': [0], 'pos_ac_ss_2': [0], 'pos_rl_ss_2': [0], 'pos_lb_ss_2': [0], 'pos_ac_ss_3': [0], 'pos_rl_ss_3': [0], 'pos_lb_ss_3': [0]}\n",
      "State of Session State for the iteration 1  :  {'pos_ac_ss_1': [0, 4], 'pos_rl_ss_1': [0, 2], 'pos_lb_ss_1': [0, 1], 'pos_ac_ss_2': [0], 'pos_rl_ss_2': [0], 'pos_lb_ss_2': [0], 'pos_ac_ss_3': [0], 'pos_rl_ss_3': [0], 'pos_lb_ss_3': [0]}\n",
      "State of Session State for the iteration 2  :  {'pos_ac_ss_1': [0, 4], 'pos_rl_ss_1': [0, 2], 'pos_lb_ss_1': [0, 1], 'pos_ac_ss_2': [0, 10], 'pos_rl_ss_2': [0, 4], 'pos_lb_ss_2': [0, 0], 'pos_ac_ss_3': [0], 'pos_rl_ss_3': [0], 'pos_lb_ss_3': [0]}\n"
     ]
    }
   ],
   "source": [
    "for _ik in range(parameters['multiprednum']):\n",
    "    print(\"State of Session State for the iteration\", _ik, \" : \", session_state)\n",
    "    if  parameters['multiprednum'] > 1:\n",
    "        session_state['pos_ac_ss_'+str(_ik+1)].extend(pos[_ik:_ik+1])\n",
    "        #-Role\n",
    "        session_state['pos_rl_ss_'+str(_ik+1)].extend(pos1[_ik:_ik+1])\n",
    "        #Label\n",
    "#         session_state['pos_lb_ss_'+str(_ik+1)].extend(pos2[_ik:_ik+1])\n",
    "        if _ik+1 > 2:\n",
    "        \n",
    "            session_state['pos_lb_ss_'+str(_ik+1)].extend([random.choice(pos2)])\n",
    "        \n",
    "#             print(\"Under > 2, session_state['pos_lb_ss_'+str(_ik+1)] :\", 'pos_lb_ss_'+str(_ik+1), session_state['pos_lb_ss_'+str(_ik+1)])\n",
    "        \n",
    "        elif _ik+1 <= 2:\n",
    "            session_state['pos_lb_ss_'+str(_ik+1)].extend(pos2[_ik:_ik+1])\n",
    "        \n",
    "#             print(\"Under <= 2, session_state['pos_lb_ss_'+str(_ik+1)] :\", 'pos_lb_ss_'+str(_ik+1), session_state['pos_lb_ss_'+str(_ik+1)])\n",
    "        \n",
    "#         print(\"After assigning Label :\", session_state['pos_lb_ss_' + str(_ik + 1)])\n",
    "\n",
    "    elif parameters['multiprednum'] == 1:\n",
    "        #When the prediction is selected as the Max probability\n",
    "        session_state['pos_ac_ss_'+str(_ik+1)].extend([pos])\n",
    "\n",
    "        session_state['pos_rl_ss_'+str(_ik+1)].extend([pos1])\n",
    "\n",
    "        session_state['pos_lb_ss_'+str(_ik+1)].extend([pos2])\n",
    "\n",
    "# -Time"
   ]
  },
  {
   "cell_type": "code",
   "execution_count": 25,
   "metadata": {},
   "outputs": [
    {
     "data": {
      "text/plain": [
       "{'pos_ac_ss_1': [0, 4],\n",
       " 'pos_rl_ss_1': [0, 2],\n",
       " 'pos_lb_ss_1': [0, 1],\n",
       " 'pos_ac_ss_2': [0, 10],\n",
       " 'pos_rl_ss_2': [0, 4],\n",
       " 'pos_lb_ss_2': [0, 0],\n",
       " 'pos_ac_ss_3': [0, 3],\n",
       " 'pos_rl_ss_3': [0, 5],\n",
       " 'pos_lb_ss_3': [0, 0]}"
      ]
     },
     "execution_count": 25,
     "metadata": {},
     "output_type": "execute_result"
    }
   ],
   "source": [
    "session_state"
   ]
  },
  {
   "cell_type": "code",
   "execution_count": 26,
   "metadata": {},
   "outputs": [],
   "source": [
    "_a = {}"
   ]
  },
  {
   "cell_type": "code",
   "execution_count": 29,
   "metadata": {},
   "outputs": [],
   "source": [
    "_a = session_state"
   ]
  },
  {
   "cell_type": "code",
   "execution_count": 30,
   "metadata": {},
   "outputs": [
    {
     "data": {
      "text/plain": [
       "{'pos_ac_ss_1': [0, 4],\n",
       " 'pos_rl_ss_1': [0, 2],\n",
       " 'pos_lb_ss_1': [0, 1],\n",
       " 'pos_ac_ss_2': [0, 10],\n",
       " 'pos_rl_ss_2': [0, 4],\n",
       " 'pos_lb_ss_2': [0, 0],\n",
       " 'pos_ac_ss_3': [0, 3],\n",
       " 'pos_rl_ss_3': [0, 5],\n",
       " 'pos_lb_ss_3': [0, 0]}"
      ]
     },
     "execution_count": 30,
     "metadata": {},
     "output_type": "execute_result"
    }
   ],
   "source": [
    "_a"
   ]
  },
  {
   "cell_type": "code",
   "execution_count": 31,
   "metadata": {},
   "outputs": [],
   "source": [
    "d1 = [{'name': 'john', 'uid': 'ax01', 'phone': '555-555-5555'},\n",
    "{'name': 'jane', 'uid': 'ax02', 'phone': '555-555-5555'},\n",
    "{'name': 'jimmy', 'uid': 'ax03', 'phone': '555-555-5555'}]"
   ]
  },
  {
   "cell_type": "code",
   "execution_count": 32,
   "metadata": {},
   "outputs": [],
   "source": [
    "d2 = [{'uid': 'ax01', 'orderid': '9999', 'note': 'testing this'},\n",
    "    {'uid': 'ax02', 'orderid': '6666', 'note': 'testing this'},\n",
    "   {'uid': 'ax03', 'orderid': '7777', 'note': 'testing this'}]"
   ]
  },
  {
   "cell_type": "code",
   "execution_count": 33,
   "metadata": {},
   "outputs": [],
   "source": [
    "uid_to_orderid = {d['uid']: d['orderid'] for d in d2}"
   ]
  },
  {
   "cell_type": "code",
   "execution_count": 34,
   "metadata": {},
   "outputs": [
    {
     "data": {
      "text/plain": [
       "{'ax01': '9999', 'ax02': '6666', 'ax03': '7777'}"
      ]
     },
     "execution_count": 34,
     "metadata": {},
     "output_type": "execute_result"
    }
   ],
   "source": [
    "uid_to_orderid"
   ]
  },
  {
   "cell_type": "code",
   "execution_count": 35,
   "metadata": {},
   "outputs": [
    {
     "data": {
      "text/plain": [
       "[{'name': 'john', 'uid': 'ax01', 'phone': '555-555-5555', 'orderid': '9999'},\n",
       " {'name': 'jane', 'uid': 'ax02', 'phone': '555-555-5555', 'orderid': '6666'},\n",
       " {'name': 'jimmy', 'uid': 'ax03', 'phone': '555-555-5555', 'orderid': '7777'}]"
      ]
     },
     "execution_count": 35,
     "metadata": {},
     "output_type": "execute_result"
    }
   ],
   "source": [
    "[dict(d, orderid=uid_to_orderid[d['uid']]) for d in d1]"
   ]
  },
  {
   "cell_type": "code",
   "execution_count": 43,
   "metadata": {},
   "outputs": [],
   "source": [
    "_b = {}"
   ]
  },
  {
   "cell_type": "code",
   "execution_count": 44,
   "metadata": {},
   "outputs": [],
   "source": [
    "_b['x'] = {}"
   ]
  },
  {
   "cell_type": "code",
   "execution_count": 45,
   "metadata": {},
   "outputs": [],
   "source": [
    "_b['x'] =session_state"
   ]
  },
  {
   "cell_type": "code",
   "execution_count": 48,
   "metadata": {},
   "outputs": [],
   "source": [
    "parameters['multiprednum'] = 3"
   ]
  },
  {
   "cell_type": "code",
   "execution_count": 66,
   "metadata": {},
   "outputs": [],
   "source": [
    "session_state = {}"
   ]
  },
  {
   "cell_type": "code",
   "execution_count": 55,
   "metadata": {},
   "outputs": [],
   "source": [
    "session_state['initial_prediction'] = {}"
   ]
  },
  {
   "cell_type": "code",
   "execution_count": 56,
   "metadata": {},
   "outputs": [],
   "source": [
    "for _lx in range(parameters['multiprednum']):\n",
    "    session_state['initial_prediction'][\"ss_initpredict{0}\".format(_lx + 1)] = {'pos_ac_ss': [], 'pos_rl_ss': [], 'pos_lb_ss': []}"
   ]
  },
  {
   "cell_type": "code",
   "execution_count": 65,
   "metadata": {},
   "outputs": [
    {
     "data": {
      "text/plain": [
       "[]"
      ]
     },
     "execution_count": 65,
     "metadata": {},
     "output_type": "execute_result"
    }
   ],
   "source": [
    "session_state['initial_prediction']['ss_initpredict1']['pos_ac_ss']"
   ]
  },
  {
   "cell_type": "code",
   "execution_count": 79,
   "metadata": {},
   "outputs": [],
   "source": [
    "session_state = {}\n",
    "parameters = {}\n",
    "parameters['multiprednum'] = 3\n",
    "session_state['initial_prediction'] = dict()"
   ]
  },
  {
   "cell_type": "code",
   "execution_count": 80,
   "metadata": {},
   "outputs": [],
   "source": [
    "for _lx in range(parameters['multiprednum']):\n",
    "    session_state['initial_prediction'][\"ss_initpredict{0}\".format(_lx + 1)] = {'pos_ac_ss': [0],\n",
    "                                                                                   'pos_rl_ss': [0],\n",
    "                                                                                   'pos_lb_ss': [0]}"
   ]
  },
  {
   "cell_type": "code",
   "execution_count": 81,
   "metadata": {},
   "outputs": [
    {
     "data": {
      "text/plain": [
       "{'initial_prediction': {'ss_initpredict1': {'pos_ac_ss': [0],\n",
       "   'pos_rl_ss': [0],\n",
       "   'pos_lb_ss': [0]},\n",
       "  'ss_initpredict2': {'pos_ac_ss': [0], 'pos_rl_ss': [0], 'pos_lb_ss': [0]},\n",
       "  'ss_initpredict3': {'pos_ac_ss': [0], 'pos_rl_ss': [0], 'pos_lb_ss': [0]}}}"
      ]
     },
     "execution_count": 81,
     "metadata": {},
     "output_type": "execute_result"
    }
   ],
   "source": [
    "session_state"
   ]
  },
  {
   "cell_type": "code",
   "execution_count": null,
   "metadata": {},
   "outputs": [],
   "source": []
  }
 ],
 "metadata": {
  "kernelspec": {
   "display_name": "Python 3.7 (tensorflow)",
   "language": "python",
   "name": "tensorflow"
  },
  "language_info": {
   "codemirror_mode": {
    "name": "ipython",
    "version": 3
   },
   "file_extension": ".py",
   "mimetype": "text/x-python",
   "name": "python",
   "nbconvert_exporter": "python",
   "pygments_lexer": "ipython3",
   "version": "3.8.3"
  }
 },
 "nbformat": 4,
 "nbformat_minor": 4
}
