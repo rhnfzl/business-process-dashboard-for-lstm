{
 "cells": [
  {
   "cell_type": "code",
   "execution_count": 14,
   "metadata": {},
   "outputs": [],
   "source": [
    "import os\n",
    "import sys\n",
    "import pandas as pd\n",
    "import numpy as np"
   ]
  },
  {
   "cell_type": "code",
   "execution_count": 15,
   "metadata": {},
   "outputs": [],
   "source": [
    "input_data_folder = \"../input_annotations\"\n",
    "in_filename_csv = \"test_log.csv\""
   ]
  },
  {
   "cell_type": "code",
   "execution_count": 16,
   "metadata": {},
   "outputs": [],
   "source": [
    "col_list = [\"caseid\", \"task\", \"end_timestamp\"]"
   ]
  },
  {
   "cell_type": "code",
   "execution_count": 17,
   "metadata": {},
   "outputs": [
    {
     "ename": "NameError",
     "evalue": "name 'caseid_output_route' is not defined",
     "output_type": "error",
     "traceback": [
      "\u001b[1;31m---------------------------------------------------------------------------\u001b[0m",
      "\u001b[1;31mNameError\u001b[0m                                 Traceback (most recent call last)",
      "\u001b[1;32m<ipython-input-17-a58f031c34dd>\u001b[0m in \u001b[0;36m<module>\u001b[1;34m\u001b[0m\n\u001b[1;32m----> 1\u001b[1;33m \u001b[0mcaseid_output\u001b[0m \u001b[1;33m=\u001b[0m \u001b[0mpd\u001b[0m\u001b[1;33m.\u001b[0m\u001b[0mread_csv\u001b[0m\u001b[1;33m(\u001b[0m\u001b[0mcaseid_output_route\u001b[0m\u001b[1;33m,\u001b[0m \u001b[0musecols\u001b[0m\u001b[1;33m=\u001b[0m\u001b[0mcol_list\u001b[0m\u001b[1;33m)\u001b[0m\u001b[1;33m\u001b[0m\u001b[1;33m\u001b[0m\u001b[0m\n\u001b[0m",
      "\u001b[1;31mNameError\u001b[0m: name 'caseid_output_route' is not defined"
     ]
    }
   ],
   "source": [
    "caseid_output = pd.read_csv(caseid_output_route, usecols=col_list)"
   ]
  },
  {
   "cell_type": "code",
   "execution_count": 18,
   "metadata": {},
   "outputs": [
    {
     "data": {
      "text/plain": [
       "'usecols=col_list'"
      ]
     },
     "execution_count": 18,
     "metadata": {},
     "output_type": "execute_result"
    }
   ],
   "source": [
    ", usecols=col_list"
   ]
  },
  {
   "cell_type": "code",
   "execution_count": 19,
   "metadata": {},
   "outputs": [],
   "source": [
    "data = pd.read_csv(os.path.join(input_data_folder, in_filename_csv), sep=\",\")"
   ]
  },
  {
   "cell_type": "code",
   "execution_count": 23,
   "metadata": {},
   "outputs": [
    {
     "name": "stdout",
     "output_type": "stream",
     "text": [
      "     caseid              task user              end_timestamp    role  \\\n",
      "2       CNA  ER Sepsis Triage    A  2014-09-19 06:28:31+00:00  Role 2   \n",
      "3       CNA        Leucocytes    B  2014-09-19 06:34:00+00:00  Role 4   \n",
      "4       CNA               CRP    B  2014-09-19 06:34:00+00:00  Role 4   \n",
      "5        DG   ER Registration    A  2014-09-19 06:51:17+00:00  Role 2   \n",
      "6        DG         ER Triage    C  2014-09-19 06:57:48+00:00  Role 5   \n",
      "...     ...               ...  ...                        ...     ...   \n",
      "3765     QK               CRP    B  2015-03-02 07:00:00+00:00  Role 4   \n",
      "3766     QK               CRP    B  2015-03-04 07:00:00+00:00  Role 4   \n",
      "3767     QK        Leucocytes    B  2015-03-06 07:00:00+00:00  Role 4   \n",
      "3768     QK               CRP    B  2015-03-06 07:00:00+00:00  Role 4   \n",
      "3769     QK         Release A    E  2015-03-07 10:00:00+00:00  Role 6   \n",
      "\n",
      "           dur  dur_norm  ac_index  rl_index  \n",
      "2         28.0  0.235192         5         2  \n",
      "3        329.0  0.405044        10         4  \n",
      "4          0.0  0.000000         3         4  \n",
      "5          0.0  0.000000         4         2  \n",
      "6        391.0  0.417069         6         5  \n",
      "...        ...       ...       ...       ...  \n",
      "3765  172800.0  0.842336         3         4  \n",
      "3766  172800.0  0.842336         3         4  \n",
      "3767  172800.0  0.842336        10         4  \n",
      "3768       0.0  0.000000         3         4  \n",
      "3769   97200.0  0.802150        11         6  \n",
      "\n",
      "[3768 rows x 9 columns]\n"
     ]
    }
   ],
   "source": [
    "print(data[2:])"
   ]
  },
  {
   "cell_type": "code",
   "execution_count": 13,
   "metadata": {},
   "outputs": [
    {
     "ename": "NameError",
     "evalue": "name 'pd' is not defined",
     "output_type": "error",
     "traceback": [
      "\u001b[1;31m---------------------------------------------------------------------------\u001b[0m",
      "\u001b[1;31mNameError\u001b[0m                                 Traceback (most recent call last)",
      "\u001b[1;32m<ipython-input-13-2cbabff582c8>\u001b[0m in \u001b[0;36m<module>\u001b[1;34m\u001b[0m\n\u001b[1;32m----> 1\u001b[1;33m \u001b[0mdata\u001b[0m \u001b[1;33m=\u001b[0m \u001b[0mpd\u001b[0m\u001b[1;33m.\u001b[0m\u001b[0mread_csv\u001b[0m\u001b[1;33m(\u001b[0m\u001b[0mos\u001b[0m\u001b[1;33m.\u001b[0m\u001b[0mpath\u001b[0m\u001b[1;33m.\u001b[0m\u001b[0mjoin\u001b[0m\u001b[1;33m(\u001b[0m\u001b[0minput_data_folder\u001b[0m\u001b[1;33m,\u001b[0m \u001b[0min_filename_csv\u001b[0m\u001b[1;33m)\u001b[0m\u001b[1;33m,\u001b[0m \u001b[0msep\u001b[0m\u001b[1;33m=\u001b[0m\u001b[1;34m\",\"\u001b[0m\u001b[1;33m,\u001b[0m \u001b[0musecols\u001b[0m\u001b[1;33m=\u001b[0m\u001b[0mcol_list\u001b[0m\u001b[1;33m,\u001b[0m \u001b[0mdtype\u001b[0m\u001b[1;33m=\u001b[0m\u001b[1;33m{\u001b[0m\u001b[1;34m'user'\u001b[0m\u001b[1;33m:\u001b[0m \u001b[0mstr\u001b[0m\u001b[1;33m}\u001b[0m\u001b[1;33m)\u001b[0m\u001b[1;33m\u001b[0m\u001b[1;33m\u001b[0m\u001b[0m\n\u001b[0m",
      "\u001b[1;31mNameError\u001b[0m: name 'pd' is not defined"
     ]
    }
   ],
   "source": [
    "data = pd.read_csv(os.path.join(input_data_folder, in_filename_csv), sep=\",\", usecols=col_list, dtype={'user': str})"
   ]
  },
  {
   "cell_type": "code",
   "execution_count": 16,
   "metadata": {},
   "outputs": [
    {
     "name": "stdout",
     "output_type": "stream",
     "text": [
      "  caseid             task\n",
      "0    CNA  ER Registration\n",
      "1    CNA        ER Triage\n"
     ]
    }
   ],
   "source": [
    "print(data[:2])"
   ]
  },
  {
   "cell_type": "code",
   "execution_count": null,
   "metadata": {},
   "outputs": [],
   "source": [
    "def get_csv_events_data(data):\n",
    "    \"\"\"\n",
    "    reads and parse all the events information from a csv file\n",
    "    \"\"\"\n",
    "    log = pd.read_csv(input, dtype={'user': str})\n",
    "    if one_timestamp:\n",
    "        column_names['Complete Timestamp'] = 'end_timestamp'\n",
    "        log = log.rename(columns=column_names)\n",
    "        log = log.astype({'caseid': object})\n",
    "        log = (log[(log.task != 'Start') & (log.task != 'End')]\n",
    "               .reset_index(drop=True))\n",
    "        if filter_d_attrib:\n",
    "            log = log[['caseid', 'task', 'user', 'end_timestamp']]\n",
    "        log['end_timestamp'] = pd.to_datetime(log['end_timestamp'],\n",
    "                                              format=timeformat)\n",
    "    else:\n",
    "        column_names['Start Timestamp'] = 'start_timestamp'\n",
    "        column_names['Complete Timestamp'] = 'end_timestamp'\n",
    "        log = log.rename(columns=column_names)\n",
    "        log = log.astype({'caseid': object})\n",
    "        log = (log[(log.task != 'Start') & (log.task != 'End')]\n",
    "               .reset_index(drop=True))\n",
    "        if filter_d_attrib:\n",
    "            log = log[['caseid', 'task', 'user',\n",
    "                       'start_timestamp', 'end_timestamp']]\n",
    "        log['start_timestamp'] = pd.to_datetime(log['start_timestamp'],\n",
    "                                                format=timeformat)\n",
    "        log['end_timestamp'] = pd.to_datetime(log['end_timestamp'],\n",
    "                                              format=timeformat)\n",
    "    log['user'].fillna('SYS', inplace=True)\n",
    "    data = log.to_dict('records')\n",
    "    append_csv_start_end()\n",
    "    split_event_transitions()"
   ]
  },
  {
   "cell_type": "code",
   "execution_count": 31,
   "metadata": {},
   "outputs": [],
   "source": [
    "import itertools as it"
   ]
  },
  {
   "cell_type": "code",
   "execution_count": 53,
   "metadata": {},
   "outputs": [],
   "source": [
    "def append_csv_start_end(data):\n",
    "    new_data = list()\n",
    "    data = sorted(data, key=lambda x: x['caseid'])\n",
    "    for key, group in it.groupby(data, key=lambda x: x['caseid']):\n",
    "        trace = list(group)\n",
    "        for new_event in ['Start', 'End']:\n",
    "            idx = 0 if new_event == 'Start' else -1\n",
    "            t_key = 'end_timestamp'\n",
    "            if not one_timestamp and new_event == 'Start':\n",
    "                t_key = 'start_timestamp'\n",
    "            temp_event = dict()\n",
    "            temp_event['caseid'] = trace[idx]['caseid']\n",
    "            temp_event['task'] = new_event\n",
    "            temp_event['user'] = new_event\n",
    "            temp_event['end_timestamp'] = trace[idx][t_key]\n",
    "            if not one_timestamp:\n",
    "                temp_event['start_timestamp'] = trace[idx][t_key]\n",
    "            if new_event == 'Start':\n",
    "                trace.insert(0, temp_event)\n",
    "            else:\n",
    "                trace.append(temp_event)\n",
    "        new_data.extend(trace)\n",
    "    data = new_data\n",
    "    return data"
   ]
  },
  {
   "cell_type": "code",
   "execution_count": 54,
   "metadata": {},
   "outputs": [],
   "source": [
    "def split_event_transitions(data, one_timestamp ):\n",
    "    temp_raw = list()\n",
    "    if one_timestamp:\n",
    "        for event in data:\n",
    "            temp_event = event.copy()\n",
    "            temp_event['timestamp'] = temp_event.pop('end_timestamp')\n",
    "            temp_event['event_type'] = 'complete'\n",
    "            temp_raw.append(temp_event)\n",
    "    else:\n",
    "        for event in data:\n",
    "            start_event = event.copy()\n",
    "            complete_event = event.copy()\n",
    "            start_event.pop('end_timestamp')\n",
    "            complete_event.pop('start_timestamp')\n",
    "            start_event['timestamp'] = start_event.pop('start_timestamp')\n",
    "            complete_event['timestamp'] = complete_event.pop('end_timestamp')\n",
    "            start_event['event_type'] = 'start'\n",
    "            complete_event['event_type'] = 'complete'\n",
    "            temp_raw.append(start_event)\n",
    "            temp_raw.append(complete_event)\n",
    "    data = temp_raw\n",
    "    return data"
   ]
  },
  {
   "cell_type": "code",
   "execution_count": 56,
   "metadata": {},
   "outputs": [],
   "source": [
    "log = pd.read_csv(os.path.join(input_data_folder, in_filename_csv), sep=\",\", dtype={'user': str})\n",
    "one_timestamp = True\n",
    "timeformat = '%Y-%m-%dT%H:%M:%S.%f'\n",
    "column_names = {'Case ID': 'caseid',\n",
    "                'Activity': 'task',\n",
    "                'lifecycle:transition': 'event_type', #---#\n",
    "                'Resource': 'user'}\n",
    "filter_d_attrib = {\n",
    "    'timeformat': '%Y-%m-%dT%H:%M:%S.%f',\n",
    "    'column_names': column_names,\n",
    "    'one_timestamp': one_timestamp,\n",
    "    'ns_include': True}\n",
    "if one_timestamp:\n",
    "    column_names['Complete Timestamp'] = 'end_timestamp'\n",
    "    log = log.rename(columns=column_names)\n",
    "    log = log.astype({'caseid': object})\n",
    "    log = (log[(log.task != 'Start') & (log.task != 'End')]\n",
    "           .reset_index(drop=True))\n",
    "    if filter_d_attrib:\n",
    "        log = log[['caseid', 'task', 'user', 'end_timestamp']]\n",
    "    log['end_timestamp'] = pd.to_datetime(log['end_timestamp'],\n",
    "                                          format=timeformat)\n",
    "else:\n",
    "    column_names['Start Timestamp'] = 'start_timestamp'\n",
    "    column_names['Complete Timestamp'] = 'end_timestamp'\n",
    "    log = log.rename(columns=column_names)\n",
    "    log = log.astype({'caseid': object})\n",
    "    log = (log[(log.task != 'Start') & (log.task != 'End')]\n",
    "           .reset_index(drop=True))\n",
    "    if filter_d_attrib:\n",
    "        log = log[['caseid', 'task', 'user',\n",
    "                   'start_timestamp', 'end_timestamp']]\n",
    "    log['start_timestamp'] = pd.to_datetime(log['start_timestamp'],\n",
    "                                            format=timeformat)\n",
    "    log['end_timestamp'] = pd.to_datetime(log['end_timestamp'],\n",
    "                                          format=timeformat)\n",
    "log['user'].fillna('SYS', inplace=True)\n",
    "data = log.to_dict('records')\n",
    "data = append_csv_start_end(data)\n",
    "data = split_event_transitions(data, one_timestamp)\n",
    "data = pd"
   ]
  },
  {
   "cell_type": "code",
   "execution_count": 58,
   "metadata": {},
   "outputs": [
    {
     "name": "stdout",
     "output_type": "stream",
     "text": [
      "[{'caseid': 'A', 'task': 'Start', 'user': 'Start', 'timestamp': Timestamp('2014-10-22 09:15:41+0000', tz='UTC'), 'event_type': 'complete'}, {'caseid': 'A', 'task': 'ER Registration', 'user': 'A', 'timestamp': Timestamp('2014-10-22 09:15:41+0000', tz='UTC'), 'event_type': 'complete'}, {'caseid': 'A', 'task': 'LacticAcid', 'user': 'B', 'timestamp': Timestamp('2014-10-22 09:27:00+0000', tz='UTC'), 'event_type': 'complete'}, {'caseid': 'A', 'task': 'Leucocytes', 'user': 'B', 'timestamp': Timestamp('2014-10-22 09:27:00+0000', tz='UTC'), 'event_type': 'complete'}, {'caseid': 'A', 'task': 'CRP', 'user': 'B', 'timestamp': Timestamp('2014-10-22 09:27:00+0000', tz='UTC'), 'event_type': 'complete'}, {'caseid': 'A', 'task': 'ER Triage', 'user': 'C', 'timestamp': Timestamp('2014-10-22 09:33:37+0000', tz='UTC'), 'event_type': 'complete'}, {'caseid': 'A', 'task': 'ER Sepsis Triage', 'user': 'A', 'timestamp': Timestamp('2014-10-22 09:34:00+0000', tz='UTC'), 'event_type': 'complete'}, {'caseid': 'A', 'task': 'IV Liquid', 'user': 'A', 'timestamp': Timestamp('2014-10-22 12:03:47+0000', tz='UTC'), 'event_type': 'complete'}, {'caseid': 'A', 'task': 'IV Antibiotics', 'user': 'A', 'timestamp': Timestamp('2014-10-22 12:03:47+0000', tz='UTC'), 'event_type': 'complete'}, {'caseid': 'A', 'task': 'Admission NC', 'user': 'D', 'timestamp': Timestamp('2014-10-22 12:13:19+0000', tz='UTC'), 'event_type': 'complete'}]\n"
     ]
    }
   ],
   "source": [
    "print(data[:10])"
   ]
  },
  {
   "cell_type": "code",
   "execution_count": 35,
   "metadata": {},
   "outputs": [
    {
     "name": "stdout",
     "output_type": "stream",
     "text": [
      "[{'caseid': 'CNA', 'task': 'ER Registration', 'user': 'A', 'end_timestamp': Timestamp('2014-09-19 06:14:18+0000', tz='UTC')}]\n"
     ]
    }
   ],
   "source": [
    "print(data[:1])"
   ]
  },
  {
   "cell_type": "code",
   "execution_count": 59,
   "metadata": {},
   "outputs": [],
   "source": [
    "data = pd.DataFrame.from_dict(data)"
   ]
  },
  {
   "cell_type": "code",
   "execution_count": 60,
   "metadata": {},
   "outputs": [
    {
     "name": "stdout",
     "output_type": "stream",
     "text": [
      "  caseid             task   user                 timestamp event_type\n",
      "0      A            Start  Start 2014-10-22 09:15:41+00:00   complete\n",
      "1      A  ER Registration      A 2014-10-22 09:15:41+00:00   complete\n",
      "2      A       LacticAcid      B 2014-10-22 09:27:00+00:00   complete\n",
      "3      A       Leucocytes      B 2014-10-22 09:27:00+00:00   complete\n",
      "4      A              CRP      B 2014-10-22 09:27:00+00:00   complete\n"
     ]
    }
   ],
   "source": [
    "print(data[:5])"
   ]
  },
  {
   "cell_type": "code",
   "execution_count": null,
   "metadata": {},
   "outputs": [],
   "source": [
    "path = os.path.join(self.output_route,\n",
    "                    'parameters',\n",
    "                    'model_parameters.json')\n",
    "\n",
    "if 'activity' in data:\n",
    "    del data['activity']\n",
    "self.parms = {**self.parms, **{k: v for k, v in data.items()}}\n",
    "self.parms['dim'] = {k: int(v) for k, v in data['dim'].items()}\n",
    "with open(path) as file:\n",
    "    filter_parms_data = json.load(file)\n",
    "    filter_parms['index_ac'] = {int(k): v\n",
    "                              for k, v in data['index_ac'].items()}\n",
    "    filter_parms['index_rl'] = {int(k): v\n",
    "                              for k, v in data['index_rl'].items()}\n",
    "    file.close()\n",
    "    self.ac_index = {v: k for k, v in self.parms['index_ac'].items()}\n",
    "    self.rl_index = {v: k for k, v in self.parms['index_rl'].items()}"
   ]
  },
  {
   "cell_type": "code",
   "execution_count": 24,
   "metadata": {},
   "outputs": [],
   "source": [
    "l = [[1,2,3,4],[5,6,7,8,9,10],[11,12,13]]"
   ]
  },
  {
   "cell_type": "code",
   "execution_count": 4,
   "metadata": {},
   "outputs": [],
   "source": [
    "key = l.index([5,6,7,8,9,10])"
   ]
  },
  {
   "cell_type": "code",
   "execution_count": 5,
   "metadata": {},
   "outputs": [
    {
     "name": "stdout",
     "output_type": "stream",
     "text": [
      "1\n"
     ]
    }
   ],
   "source": [
    "print(key)"
   ]
  },
  {
   "cell_type": "code",
   "execution_count": 6,
   "metadata": {},
   "outputs": [
    {
     "data": {
      "text/plain": [
       "3"
      ]
     },
     "execution_count": 6,
     "metadata": {},
     "output_type": "execute_result"
    }
   ],
   "source": [
    "len(l)"
   ]
  },
  {
   "cell_type": "code",
   "execution_count": 7,
   "metadata": {},
   "outputs": [],
   "source": [
    "dictA = {1:'Y', 2:'E', 3:'E'}\n",
    "dictB = {\"A\":'Y', \"B\":'A', \"C\":'W'}"
   ]
  },
  {
   "cell_type": "code",
   "execution_count": 10,
   "metadata": {},
   "outputs": [
    {
     "data": {
      "text/plain": [
       "False"
      ]
     },
     "execution_count": 10,
     "metadata": {},
     "output_type": "execute_result"
    }
   ],
   "source": [
    "dictB[\"A\"] in dictA"
   ]
  },
  {
   "cell_type": "code",
   "execution_count": 12,
   "metadata": {},
   "outputs": [
    {
     "name": "stdout",
     "output_type": "stream",
     "text": [
      "1\n"
     ]
    }
   ],
   "source": [
    "for name, age in dictA.items():\n",
    "    if age == dictB[\"A\"]:\n",
    "        print(name)"
   ]
  },
  {
   "cell_type": "code",
   "execution_count": 25,
   "metadata": {},
   "outputs": [
    {
     "data": {
      "text/plain": [
       "[[1, 2, 3, 4], [5, 6, 7, 8, 9, 10], [11, 12, 13]]"
      ]
     },
     "execution_count": 25,
     "metadata": {},
     "output_type": "execute_result"
    }
   ],
   "source": [
    "l"
   ]
  },
  {
   "cell_type": "code",
   "execution_count": 27,
   "metadata": {},
   "outputs": [
    {
     "data": {
      "text/plain": [
       "[[5, 6, 7, 8, 9, 10], [11, 12, 13]]"
      ]
     },
     "execution_count": 27,
     "metadata": {},
     "output_type": "execute_result"
    }
   ],
   "source": [
    "l[1:]"
   ]
  },
  {
   "cell_type": "code",
   "execution_count": 28,
   "metadata": {},
   "outputs": [],
   "source": [
    "z = [[0], [0, 4.0], [0, 4.0, 6.0], [0, 4.0, 6.0, 3.0], [0, 4.0, 6.0, 3.0, 10.0], [0, 4.0, 6.0, 3.0, 10.0, 5.0], [0, 4.0, 6.0, 3.0, 10.0, 5.0, 8.0], [0, 4.0, 6.0, 3.0, 10.0, 5.0, 8.0, 7.0], [0, 4.0, 6.0, 3.0, 10.0, 5.0, 8.0, 7.0, 12.0]]"
   ]
  },
  {
   "cell_type": "code",
   "execution_count": 29,
   "metadata": {},
   "outputs": [
    {
     "data": {
      "text/plain": [
       "[[0],\n",
       " [0, 4.0],\n",
       " [0, 4.0, 6.0],\n",
       " [0, 4.0, 6.0, 3.0],\n",
       " [0, 4.0, 6.0, 3.0, 10.0],\n",
       " [0, 4.0, 6.0, 3.0, 10.0, 5.0],\n",
       " [0, 4.0, 6.0, 3.0, 10.0, 5.0, 8.0],\n",
       " [0, 4.0, 6.0, 3.0, 10.0, 5.0, 8.0, 7.0],\n",
       " [0, 4.0, 6.0, 3.0, 10.0, 5.0, 8.0, 7.0, 12.0]]"
      ]
     },
     "execution_count": 29,
     "metadata": {},
     "output_type": "execute_result"
    }
   ],
   "source": [
    "z"
   ]
  },
  {
   "cell_type": "code",
   "execution_count": 36,
   "metadata": {},
   "outputs": [
    {
     "data": {
      "text/plain": [
       "[[0], [0, 4.0], [0, 4.0, 6.0], [0, 4.0, 6.0, 3.0], [0, 4.0, 6.0, 3.0, 10.0]]"
      ]
     },
     "execution_count": 36,
     "metadata": {},
     "output_type": "execute_result"
    }
   ],
   "source": [
    "z[:5]"
   ]
  },
  {
   "cell_type": "code",
   "execution_count": 37,
   "metadata": {},
   "outputs": [
    {
     "ename": "AttributeError",
     "evalue": "'NoneType' object has no attribute 'session_id'",
     "output_type": "error",
     "traceback": [
      "\u001b[1;31m---------------------------------------------------------------------------\u001b[0m",
      "\u001b[1;31mAttributeError\u001b[0m                            Traceback (most recent call last)",
      "\u001b[1;32m<ipython-input-37-ecb561a549dd>\u001b[0m in \u001b[0;36m<module>\u001b[1;34m\u001b[0m\n\u001b[0;32m    145\u001b[0m \u001b[1;33m\u001b[0m\u001b[0m\n\u001b[0;32m    146\u001b[0m \u001b[1;32mif\u001b[0m \u001b[0m__name__\u001b[0m \u001b[1;33m==\u001b[0m \u001b[1;34m\"__main__\"\u001b[0m\u001b[1;33m:\u001b[0m\u001b[1;33m\u001b[0m\u001b[1;33m\u001b[0m\u001b[0m\n\u001b[1;32m--> 147\u001b[1;33m     \u001b[0mmain\u001b[0m\u001b[1;33m(\u001b[0m\u001b[1;33m)\u001b[0m\u001b[1;33m\u001b[0m\u001b[1;33m\u001b[0m\u001b[0m\n\u001b[0m",
      "\u001b[1;32m<ipython-input-37-ecb561a549dd>\u001b[0m in \u001b[0;36mmain\u001b[1;34m()\u001b[0m\n\u001b[0;32m     13\u001b[0m \u001b[1;33m\u001b[0m\u001b[0m\n\u001b[0;32m     14\u001b[0m \u001b[1;32mdef\u001b[0m \u001b[0mmain\u001b[0m\u001b[1;33m(\u001b[0m\u001b[1;33m)\u001b[0m\u001b[1;33m:\u001b[0m\u001b[1;33m\u001b[0m\u001b[1;33m\u001b[0m\u001b[0m\n\u001b[1;32m---> 15\u001b[1;33m     \u001b[0mstate\u001b[0m \u001b[1;33m=\u001b[0m \u001b[0m_get_state\u001b[0m\u001b[1;33m(\u001b[0m\u001b[1;33m)\u001b[0m\u001b[1;33m\u001b[0m\u001b[1;33m\u001b[0m\u001b[0m\n\u001b[0m\u001b[0;32m     16\u001b[0m     pages = {\n\u001b[0;32m     17\u001b[0m         \u001b[1;34m\"Dashboard\"\u001b[0m\u001b[1;33m:\u001b[0m \u001b[0mpage_dashboard\u001b[0m\u001b[1;33m,\u001b[0m\u001b[1;33m\u001b[0m\u001b[1;33m\u001b[0m\u001b[0m\n",
      "\u001b[1;32m<ipython-input-37-ecb561a549dd>\u001b[0m in \u001b[0;36m_get_state\u001b[1;34m(hash_funcs)\u001b[0m\n\u001b[0;32m    136\u001b[0m \u001b[1;33m\u001b[0m\u001b[0m\n\u001b[0;32m    137\u001b[0m \u001b[1;32mdef\u001b[0m \u001b[0m_get_state\u001b[0m\u001b[1;33m(\u001b[0m\u001b[0mhash_funcs\u001b[0m\u001b[1;33m=\u001b[0m\u001b[1;32mNone\u001b[0m\u001b[1;33m)\u001b[0m\u001b[1;33m:\u001b[0m\u001b[1;33m\u001b[0m\u001b[1;33m\u001b[0m\u001b[0m\n\u001b[1;32m--> 138\u001b[1;33m     \u001b[0msession\u001b[0m \u001b[1;33m=\u001b[0m \u001b[0m_get_session\u001b[0m\u001b[1;33m(\u001b[0m\u001b[1;33m)\u001b[0m\u001b[1;33m\u001b[0m\u001b[1;33m\u001b[0m\u001b[0m\n\u001b[0m\u001b[0;32m    139\u001b[0m \u001b[1;33m\u001b[0m\u001b[0m\n\u001b[0;32m    140\u001b[0m     \u001b[1;32mif\u001b[0m \u001b[1;32mnot\u001b[0m \u001b[0mhasattr\u001b[0m\u001b[1;33m(\u001b[0m\u001b[0msession\u001b[0m\u001b[1;33m,\u001b[0m \u001b[1;34m\"_custom_session_state\"\u001b[0m\u001b[1;33m)\u001b[0m\u001b[1;33m:\u001b[0m\u001b[1;33m\u001b[0m\u001b[1;33m\u001b[0m\u001b[0m\n",
      "\u001b[1;32m<ipython-input-37-ecb561a549dd>\u001b[0m in \u001b[0;36m_get_session\u001b[1;34m()\u001b[0m\n\u001b[0;32m    126\u001b[0m \u001b[1;33m\u001b[0m\u001b[0m\n\u001b[0;32m    127\u001b[0m \u001b[1;32mdef\u001b[0m \u001b[0m_get_session\u001b[0m\u001b[1;33m(\u001b[0m\u001b[1;33m)\u001b[0m\u001b[1;33m:\u001b[0m\u001b[1;33m\u001b[0m\u001b[1;33m\u001b[0m\u001b[0m\n\u001b[1;32m--> 128\u001b[1;33m     \u001b[0msession_id\u001b[0m \u001b[1;33m=\u001b[0m \u001b[0mget_report_ctx\u001b[0m\u001b[1;33m(\u001b[0m\u001b[1;33m)\u001b[0m\u001b[1;33m.\u001b[0m\u001b[0msession_id\u001b[0m\u001b[1;33m\u001b[0m\u001b[1;33m\u001b[0m\u001b[0m\n\u001b[0m\u001b[0;32m    129\u001b[0m     \u001b[0msession_info\u001b[0m \u001b[1;33m=\u001b[0m \u001b[0mServer\u001b[0m\u001b[1;33m.\u001b[0m\u001b[0mget_current\u001b[0m\u001b[1;33m(\u001b[0m\u001b[1;33m)\u001b[0m\u001b[1;33m.\u001b[0m\u001b[0m_get_session_info\u001b[0m\u001b[1;33m(\u001b[0m\u001b[0msession_id\u001b[0m\u001b[1;33m)\u001b[0m\u001b[1;33m\u001b[0m\u001b[1;33m\u001b[0m\u001b[0m\n\u001b[0;32m    130\u001b[0m \u001b[1;33m\u001b[0m\u001b[0m\n",
      "\u001b[1;31mAttributeError\u001b[0m: 'NoneType' object has no attribute 'session_id'"
     ]
    }
   ],
   "source": [
    "import streamlit as st\n",
    "from streamlit.hashing import _CodeHasher\n",
    "\n",
    "try:\n",
    "    # Before Streamlit 0.65\n",
    "    from streamlit.ReportThread import get_report_ctx\n",
    "    from streamlit.server.Server import Server\n",
    "except ModuleNotFoundError:\n",
    "    # After Streamlit 0.65\n",
    "    from streamlit.report_thread import get_report_ctx\n",
    "    from streamlit.server.server import Server\n",
    "\n",
    "\n",
    "def main():\n",
    "    state = _get_state()\n",
    "    pages = {\n",
    "        \"Dashboard\": page_dashboard,\n",
    "        \"Settings\": page_settings,\n",
    "    }\n",
    "\n",
    "    st.sidebar.title(\":floppy_disk: Page states\")\n",
    "    page = st.sidebar.radio(\"Select your page\", tuple(pages.keys()))\n",
    "\n",
    "    # Display the selected page with the session state\n",
    "    pages[page](state)\n",
    "\n",
    "    # Mandatory to avoid rollbacks with widgets, must be called at the end of your app\n",
    "    state.sync()\n",
    "\n",
    "\n",
    "def page_dashboard(state):\n",
    "    st.title(\":chart_with_upwards_trend: Dashboard page\")\n",
    "    display_state_values(state)\n",
    "\n",
    "\n",
    "def page_settings(state):\n",
    "    st.title(\":wrench: Settings\")\n",
    "    display_state_values(state)\n",
    "\n",
    "    st.write(\"---\")\n",
    "    options = [\"Hello\", \"World\", \"Goodbye\"]\n",
    "    state.input = st.text_input(\"Set input value.\", state.input or \"\")\n",
    "    state.slider = st.slider(\"Set slider value.\", 1, 10, state.slider)\n",
    "    state.radio = st.radio(\"Set radio value.\", options, options.index(state.radio) if state.radio else 0)\n",
    "    state.checkbox = st.checkbox(\"Set checkbox value.\", state.checkbox)\n",
    "    state.selectbox = st.selectbox(\"Select value.\", options, options.index(state.selectbox) if state.selectbox else 0)\n",
    "    state.multiselect = st.multiselect(\"Select value(s).\", options, state.multiselect)\n",
    "\n",
    "    # Dynamic state assignments\n",
    "    for i in range(3):\n",
    "        key = f\"State value {i}\"\n",
    "        state[key] = st.slider(f\"Set value {i}\", 1, 10, state[key])\n",
    "\n",
    "\n",
    "def display_state_values(state):\n",
    "    st.write(\"Input state:\", state.input)\n",
    "    st.write(\"Slider state:\", state.slider)\n",
    "    st.write(\"Radio state:\", state.radio)\n",
    "    st.write(\"Checkbox state:\", state.checkbox)\n",
    "    st.write(\"Selectbox state:\", state.selectbox)\n",
    "    st.write(\"Multiselect state:\", state.multiselect)\n",
    "    \n",
    "    for i in range(3):\n",
    "        st.write(f\"Value {i}:\", state[f\"State value {i}\"])\n",
    "\n",
    "    if st.button(\"Clear state\"):\n",
    "        state.clear()\n",
    "\n",
    "\n",
    "class _SessionState:\n",
    "\n",
    "    def __init__(self, session, hash_funcs):\n",
    "        \"\"\"Initialize SessionState instance.\"\"\"\n",
    "        self.__dict__[\"_state\"] = {\n",
    "            \"data\": {},\n",
    "            \"hash\": None,\n",
    "            \"hasher\": _CodeHasher(hash_funcs),\n",
    "            \"is_rerun\": False,\n",
    "            \"session\": session,\n",
    "        }\n",
    "\n",
    "    def __call__(self, **kwargs):\n",
    "        \"\"\"Initialize state data once.\"\"\"\n",
    "        for item, value in kwargs.items():\n",
    "            if item not in self._state[\"data\"]:\n",
    "                self._state[\"data\"][item] = value\n",
    "\n",
    "    def __getitem__(self, item):\n",
    "        \"\"\"Return a saved state value, None if item is undefined.\"\"\"\n",
    "        return self._state[\"data\"].get(item, None)\n",
    "        \n",
    "    def __getattr__(self, item):\n",
    "        \"\"\"Return a saved state value, None if item is undefined.\"\"\"\n",
    "        return self._state[\"data\"].get(item, None)\n",
    "\n",
    "    def __setitem__(self, item, value):\n",
    "        \"\"\"Set state value.\"\"\"\n",
    "        self._state[\"data\"][item] = value\n",
    "\n",
    "    def __setattr__(self, item, value):\n",
    "        \"\"\"Set state value.\"\"\"\n",
    "        self._state[\"data\"][item] = value\n",
    "    \n",
    "    def clear(self):\n",
    "        \"\"\"Clear session state and request a rerun.\"\"\"\n",
    "        self._state[\"data\"].clear()\n",
    "        self._state[\"session\"].request_rerun()\n",
    "    \n",
    "    def sync(self):\n",
    "        \"\"\"Rerun the app with all state values up to date from the beginning to fix rollbacks.\"\"\"\n",
    "\n",
    "        # Ensure to rerun only once to avoid infinite loops\n",
    "        # caused by a constantly changing state value at each run.\n",
    "        #\n",
    "        # Example: state.value += 1\n",
    "        if self._state[\"is_rerun\"]:\n",
    "            self._state[\"is_rerun\"] = False\n",
    "        \n",
    "        elif self._state[\"hash\"] is not None:\n",
    "            if self._state[\"hash\"] != self._state[\"hasher\"].to_bytes(self._state[\"data\"], None):\n",
    "                self._state[\"is_rerun\"] = True\n",
    "                self._state[\"session\"].request_rerun()\n",
    "\n",
    "        self._state[\"hash\"] = self._state[\"hasher\"].to_bytes(self._state[\"data\"], None)\n",
    "\n",
    "\n",
    "def _get_session():\n",
    "    session_id = get_report_ctx().session_id\n",
    "    session_info = Server.get_current()._get_session_info(session_id)\n",
    "\n",
    "    if session_info is None:\n",
    "        raise RuntimeError(\"Couldn't get your Streamlit Session object.\")\n",
    "    \n",
    "    return session_info.session\n",
    "\n",
    "\n",
    "def _get_state(hash_funcs=None):\n",
    "    session = _get_session()\n",
    "\n",
    "    if not hasattr(session, \"_custom_session_state\"):\n",
    "        session._custom_session_state = _SessionState(session, hash_funcs)\n",
    "\n",
    "    return session._custom_session_state\n",
    "\n",
    "\n",
    "if __name__ == \"__main__\":\n",
    "    main()"
   ]
  },
  {
   "cell_type": "code",
   "execution_count": 40,
   "metadata": {},
   "outputs": [],
   "source": [
    "n = [0]"
   ]
  },
  {
   "cell_type": "code",
   "execution_count": 41,
   "metadata": {},
   "outputs": [
    {
     "ename": "TypeError",
     "evalue": "can only concatenate list (not \"int\") to list",
     "output_type": "error",
     "traceback": [
      "\u001b[1;31m---------------------------------------------------------------------------\u001b[0m",
      "\u001b[1;31mTypeError\u001b[0m                                 Traceback (most recent call last)",
      "\u001b[1;32m<ipython-input-41-1631a93a325e>\u001b[0m in \u001b[0;36m<module>\u001b[1;34m\u001b[0m\n\u001b[1;32m----> 1\u001b[1;33m \u001b[0mn\u001b[0m \u001b[1;33m=\u001b[0m \u001b[0mn\u001b[0m \u001b[1;33m+\u001b[0m \u001b[1;36m1\u001b[0m\u001b[1;33m\u001b[0m\u001b[1;33m\u001b[0m\u001b[0m\n\u001b[0m",
      "\u001b[1;31mTypeError\u001b[0m: can only concatenate list (not \"int\") to list"
     ]
    }
   ],
   "source": [
    "n = n + 1"
   ]
  },
  {
   "cell_type": "code",
   "execution_count": 45,
   "metadata": {},
   "outputs": [],
   "source": [
    "u = 4"
   ]
  },
  {
   "cell_type": "code",
   "execution_count": 46,
   "metadata": {},
   "outputs": [],
   "source": [
    "y = [u-1]"
   ]
  },
  {
   "cell_type": "code",
   "execution_count": 47,
   "metadata": {},
   "outputs": [
    {
     "data": {
      "text/plain": [
       "[3]"
      ]
     },
     "execution_count": 47,
     "metadata": {},
     "output_type": "execute_result"
    }
   ],
   "source": [
    "y"
   ]
  },
  {
   "cell_type": "code",
   "execution_count": null,
   "metadata": {},
   "outputs": [],
   "source": []
  }
 ],
 "metadata": {
  "kernelspec": {
   "display_name": "Python 3",
   "language": "python",
   "name": "python3"
  },
  "language_info": {
   "codemirror_mode": {
    "name": "ipython",
    "version": 3
   },
   "file_extension": ".py",
   "mimetype": "text/x-python",
   "name": "python",
   "nbconvert_exporter": "python",
   "pygments_lexer": "ipython3",
   "version": "3.7.7"
  }
 },
 "nbformat": 4,
 "nbformat_minor": 4
}
